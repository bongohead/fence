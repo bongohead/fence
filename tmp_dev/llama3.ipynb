{
 "cells": [
  {
   "cell_type": "code",
   "execution_count": 31,
   "metadata": {},
   "outputs": [],
   "source": [
    "from transformers import AutoTokenizer, AutoModelForCausalLM\n",
    "import torch\n",
    "#https://github.com/huggingface/transformers/blob/main/src/transformers/models/llama/modeling_llama.py\n",
    "\n",
    "model_id = 'meta-llama/Llama-3.2-1B-Instruct'\n",
    "device = 'cpu'"
   ]
  },
  {
   "cell_type": "code",
   "execution_count": null,
   "metadata": {},
   "outputs": [],
   "source": [
    "tokenizer = AutoTokenizer.from_pretrained(model_id)\n",
    "model = AutoModelForCausalLM.from_pretrained(\n",
    "    model_id,\n",
    "    torch_dtype=torch.bfloat16,\n",
    ").to(device)\n"
   ]
  },
  {
   "cell_type": "code",
   "execution_count": null,
   "metadata": {},
   "outputs": [],
   "source": [
    "from llama.configuration_llama import LlamaConfig\n",
    "\n",
    "config = LlamaConfig()\n",
    "print(config)\n",
    "print(model.config)\n",
    "\n",
    "my_config = model.config\n",
    "my_config "
   ]
  },
  {
   "cell_type": "code",
   "execution_count": null,
   "metadata": {},
   "outputs": [],
   "source": [
    "input_text = 'Hi, I am a dog and I like to wo'\n",
    "input = tokenizer([input_text], return_tensors = 'pt')\n",
    "\n",
    "print(input)"
   ]
  },
  {
   "cell_type": "code",
   "execution_count": null,
   "metadata": {},
   "outputs": [],
   "source": [
    "output = model.generate(\n",
    "    **input,  # Unpack the dictionary to pass input_ids and attention_mask\n",
    "    max_length=50,      # Maximum length of generated text (adjust as needed)\n",
    "    do_sample=False,          # Whether to sample for more diverse generations\n",
    ")\n",
    "tokenizer.decode(output[0], skip_special_tokens=True)"
   ]
  },
  {
   "cell_type": "code",
   "execution_count": null,
   "metadata": {},
   "outputs": [],
   "source": [
    "with torch.no_grad():\n",
    "    r = model(input['input_ids'], input['attention_mask'])\n",
    "    output_id = torch.argmax(r['logits'][:, -1, :], dim = -1)\n",
    "    print(tokenizer.decode(output_id))"
   ]
  },
  {
   "cell_type": "code",
   "execution_count": null,
   "metadata": {},
   "outputs": [],
   "source": [
    "with torch.no_grad():\n",
    "    r = model(input['input_ids'], input['attention_mask'])\n",
    "    \n",
    "    \n",
    "    output_id = torch.argmax(r['logits'][:, -1, :], dim = -1)\n",
    "    print(tokenizer.decode(output_id))\n"
   ]
  },
  {
   "cell_type": "code",
   "execution_count": null,
   "metadata": {},
   "outputs": [],
   "source": [
    "with torch.no_grad():\n",
    "    base_output = model.model(input['input_ids'], input['attention_mask'])\n",
    "    logits = model.lm_head(base_output[0])\n",
    "\n",
    "    output_id = torch.argmax(logits[:, -1, :], dim = -1)\n",
    "    print(tokenizer.decode(output_id))"
   ]
  },
  {
   "cell_type": "code",
   "execution_count": null,
   "metadata": {},
   "outputs": [],
   "source": [
    "with torch.no_grad():\n",
    "    # base_output = model.model(input['input_ids'], input['attention_mask'])\n",
    "    embeds = model.model.embed_tokens(input['input_ids'])\n",
    "\n",
    "    cache_position = torch.arange(0, 0 + embeds.shape[1], device=embeds.device)\n",
    "    position_ids = cache_position.unsqueeze(0)\n",
    "    causal_mask = model.model._update_causal_mask(input['attention_mask'], embeds, cache_position, None, False)\n",
    "    print(causal_mask)\n",
    "\n",
    "    # Create position embeddings to be shared across transformer blocks\n",
    "    position_embeddings = model.model.rotary_emb(embeds, position_ids)\n",
    "\n",
    "    hidden_state = embeds\n",
    "    for i, layer in enumerate(model.model.layers):            \n",
    "        layer_output = layer(\n",
    "            hidden_state,\n",
    "            causal_mask,\n",
    "            position_ids,\n",
    "            position_embeddings = position_embeddings\n",
    "        )\n",
    "\n",
    "        hidden_state = layer_output[0]\n",
    "\n",
    "\n",
    "    hidden_states = model.model.norm(hidden_state)\n",
    "    \n",
    "    logits = model.lm_head(hidden_states)\n",
    "\n",
    "    output_id = torch.argmax(logits[:, -1, :], dim = -1)\n",
    "    print(tokenizer.decode(output_id))"
   ]
  },
  {
   "cell_type": "code",
   "execution_count": null,
   "metadata": {},
   "outputs": [],
   "source": [
    "with torch.no_grad():\n",
    "    # base_output = model.model(input['input_ids'], input['attention_mask'])\n",
    "    embeds = model.model.embed_tokens(input['input_ids'])\n",
    "\n",
    "    cache_position = torch.arange(0, 0 + embeds.shape[1], device=embeds.device)\n",
    "    position_ids = cache_position.unsqueeze(0)\n",
    "    causal_mask = model.model._update_causal_mask(input['attention_mask'], embeds, cache_position, None, False)\n",
    "    print(causal_mask)\n",
    "\n",
    "    # Create position embeddings to be shared across transformer blocks\n",
    "    position_embeddings = model.model.rotary_emb(embeds, position_ids)\n",
    "\n",
    "    hidden_state = embeds\n",
    "    for i, layer in enumerate(model.model.layers):      \n",
    "\n",
    "        residual = hidden_state\n",
    "        hidden_state = layer.input_layernorm(hidden_state)   \n",
    "        \n",
    "        sa_output, _, _ = layer.self_attn(hidden_state, causal_mask, position_ids, position_embeddings = position_embeddings)\n",
    "        hidden_state = residual + sa_output\n",
    "\n",
    "        residual = hidden_state\n",
    "        hidden_state = layer.post_attention_layernorm(hidden_state)\n",
    "\n",
    "        mlp_output = layer.mlp(hidden_state)\n",
    "        hidden_state = residual + mlp_output\n",
    "\n",
    "    hidden_states = model.model.norm(hidden_state)\n",
    "    \n",
    "    logits = model.lm_head(hidden_states)\n",
    "\n",
    "    output_id = torch.argmax(logits[:, -1, :], dim = -1)\n",
    "    print(tokenizer.decode(output_id))"
   ]
  },
  {
   "cell_type": "code",
   "execution_count": 87,
   "metadata": {},
   "outputs": [],
   "source": [
    "position_embeddings = model.model.rotary_emb(embeds, position_ids)\n"
   ]
  },
  {
   "cell_type": "code",
   "execution_count": null,
   "metadata": {},
   "outputs": [],
   "source": []
  }
 ],
 "metadata": {
  "kernelspec": {
   "display_name": ".venv",
   "language": "python",
   "name": "python3"
  },
  "language_info": {
   "codemirror_mode": {
    "name": "ipython",
    "version": 3
   },
   "file_extension": ".py",
   "mimetype": "text/x-python",
   "name": "python",
   "nbconvert_exporter": "python",
   "pygments_lexer": "ipython3",
   "version": "3.11.4"
  }
 },
 "nbformat": 4,
 "nbformat_minor": 2
}
